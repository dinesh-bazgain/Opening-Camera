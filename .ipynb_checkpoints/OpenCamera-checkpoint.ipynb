{
 "cells": [
  {
   "cell_type": "code",
   "execution_count": 1,
   "id": "d61550aa-aa7b-4685-91c1-589a3a8a4f26",
   "metadata": {},
   "outputs": [],
   "source": [
    "import cv2 as cv\n",
    "from IPython.display import display, Image\n",
    "import matplotlib.pyplot as plt"
   ]
  },
  {
   "cell_type": "code",
   "execution_count": 3,
   "id": "07c9884c-863a-4da5-985d-bb8542b3b9bd",
   "metadata": {},
   "outputs": [
    {
     "ename": "SyntaxError",
     "evalue": "'(' was never closed (3474016807.py, line 24)",
     "output_type": "error",
     "traceback": [
      "\u001b[0;36m  Cell \u001b[0;32mIn[3], line 24\u001b[0;36m\u001b[0m\n\u001b[0;31m    cv.rectangle(frame, (x,y), (x+W,y+H), (0,255,0), thickness = 2\u001b[0m\n\u001b[0m                ^\u001b[0m\n\u001b[0;31mSyntaxError\u001b[0m\u001b[0;31m:\u001b[0m '(' was never closed\n"
     ]
    }
   ],
   "source": [
    "cap = cv.VideoCapture(0)  # Open webcam\n",
    "\n",
    "if not cap.isOpened():\n",
    "    print(\"Error!!! Could not open camera\")\n",
    "else:\n",
    "    while True:\n",
    "        ret, frame = cap.read()\n",
    "        if not ret:\n",
    "            print(\"Error!!! Could not read frame.\")\n",
    "            break    \n",
    "\n",
    "        cv.imshow(\"Grayscale Video\", frame)\n",
    "\n",
    "        # Press 'q' to exit\n",
    "        if cv.waitKey(1) & 0xFF == ord('q'):\n",
    "            break\n",
    "\n",
    "haar_cascade = cv.CascadeClassifier('haar_face')\n",
    "face_box = haar_cacade.detectMultiScale(frame, scaleFactor = 1.1, minNeighbour = 2)\n",
    "\n",
    "print(f'No of face(s) decteted = {len(face_box)}')\n",
    "\n",
    "for (x,y,w,h) in face_box:\n",
    "    cv.rectangle(frame, (x,y), (x+W,y+H), (0,255,0), thickness = 2)\n",
    "\n",
    "cv.imshow('Detected face', frame)\n",
    "\n",
    "cap.release()\n",
    "cv.destroyAllWindows()\n",
    "cv.waitKey(1)\n",
    "\n",
    "plt.imshow(cv.cvtColor(frame, cv.COLOR_BGR2GRAY))\n",
    "plt.axis('off')\n",
    "plt.show()"
   ]
  },
  {
   "cell_type": "code",
   "execution_count": null,
   "id": "4c4d6218-14c0-4845-bd29-f172103604e1",
   "metadata": {},
   "outputs": [],
   "source": []
  },
  {
   "cell_type": "code",
   "execution_count": null,
   "id": "7e5033d8-b9ec-41c4-9ed9-84bccecaf8af",
   "metadata": {},
   "outputs": [],
   "source": []
  }
 ],
 "metadata": {
  "kernelspec": {
   "display_name": "Python 3 (ipykernel)",
   "language": "python",
   "name": "python3"
  },
  "language_info": {
   "codemirror_mode": {
    "name": "ipython",
    "version": 3
   },
   "file_extension": ".py",
   "mimetype": "text/x-python",
   "name": "python",
   "nbconvert_exporter": "python",
   "pygments_lexer": "ipython3",
   "version": "3.13.1"
  }
 },
 "nbformat": 4,
 "nbformat_minor": 5
}
