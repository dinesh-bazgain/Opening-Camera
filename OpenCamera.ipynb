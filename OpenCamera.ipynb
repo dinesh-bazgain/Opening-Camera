{
 "cells": [
  {
   "cell_type": "code",
   "execution_count": 4,
   "id": "d61550aa-aa7b-4685-91c1-589a3a8a4f26",
   "metadata": {},
   "outputs": [],
   "source": [
    "import cv2 as cv\n",
    "from IPython.display import display, Image\n",
    "import matplotlib.pyplot as plt"
   ]
  },
  {
   "cell_type": "code",
   "execution_count": 5,
   "id": "07c9884c-863a-4da5-985d-bb8542b3b9bd",
   "metadata": {},
   "outputs": [
    {
     "ename": "NameError",
     "evalue": "name 'Cv' is not defined",
     "output_type": "error",
     "traceback": [
      "\u001b[0;31m---------------------------------------------------------------------------\u001b[0m",
      "\u001b[0;31mNameError\u001b[0m                                 Traceback (most recent call last)",
      "Cell \u001b[0;32mIn[5], line 22\u001b[0m\n\u001b[1;32m     19\u001b[0m cv\u001b[38;5;241m.\u001b[39mdestroyAllWindows()\n\u001b[1;32m     20\u001b[0m cv\u001b[38;5;241m.\u001b[39mwaitKey(\u001b[38;5;241m1\u001b[39m)\n\u001b[0;32m---> 22\u001b[0m plt\u001b[38;5;241m.\u001b[39mimshow(cv\u001b[38;5;241m.\u001b[39mcvtColor(frame, \u001b[43mCv\u001b[49m\u001b[38;5;241m.\u001b[39mCOLOR_BGR2RGB))\n\u001b[1;32m     23\u001b[0m plt\u001b[38;5;241m.\u001b[39maxis(\u001b[38;5;124m'\u001b[39m\u001b[38;5;124moff\u001b[39m\u001b[38;5;124m'\u001b[39m)\n\u001b[1;32m     24\u001b[0m plt\u001b[38;5;241m.\u001b[39mshow()\n",
      "\u001b[0;31mNameError\u001b[0m: name 'Cv' is not defined"
     ]
    }
   ],
   "source": [
    "cap = cv.VideoCapture(0)  # Open webcam\n",
    "\n",
    "if not cap.isOpened():\n",
    "    print(\"Error!!! Could not open camera\")\n",
    "else:\n",
    "    while True:\n",
    "        ret, frame = cap.read()\n",
    "        if not ret:\n",
    "            print(\"Error!!! Could not read frame.\")\n",
    "            break    \n",
    "\n",
    "        cv.imshow(\"Grayscale Video\", frame)\n",
    "\n",
    "        # Press 'q' to exit\n",
    "        if cv.waitKey(1) & 0xFF == ord('q'):\n",
    "            break\n",
    "\n",
    "cap.release()\n",
    "cv.destroyAllWindows()\n",
    "cv.waitKey(1)\n",
    "\n",
    "plt.imshow(cv.cvtColor(frame, Cv.COLOR_BGR2RGB))\n",
    "plt.axis('off')\n",
    "plt.show()"
   ]
  },
  {
   "cell_type": "code",
   "execution_count": null,
   "id": "4c4d6218-14c0-4845-bd29-f172103604e1",
   "metadata": {},
   "outputs": [],
   "source": []
  },
  {
   "cell_type": "code",
   "execution_count": null,
   "id": "7e5033d8-b9ec-41c4-9ed9-84bccecaf8af",
   "metadata": {},
   "outputs": [],
   "source": []
  }
 ],
 "metadata": {
  "kernelspec": {
   "display_name": "Python 3 (ipykernel)",
   "language": "python",
   "name": "python3"
  },
  "language_info": {
   "codemirror_mode": {
    "name": "ipython",
    "version": 3
   },
   "file_extension": ".py",
   "mimetype": "text/x-python",
   "name": "python",
   "nbconvert_exporter": "python",
   "pygments_lexer": "ipython3",
   "version": "3.13.1"
  }
 },
 "nbformat": 4,
 "nbformat_minor": 5
}
